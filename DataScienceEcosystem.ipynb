{
 "cells": [
  {
   "cell_type": "markdown",
   "id": "4cc53e5e",
   "metadata": {},
   "source": [
    "# Data Science Tools and Ecosystem\n"
   ]
  },
  {
   "cell_type": "markdown",
   "id": "cdb2a5f4",
   "metadata": {},
   "source": [
    "## In this notebook, Data Science Tools and Ecosystem are summarized.\n"
   ]
  },
  {
   "cell_type": "markdown",
   "id": "bd688456",
   "metadata": {},
   "source": [
    "**Objectives:**\n",
    "\n",
    "- R\n",
    "- SQL\n",
    "- Java\n",
    "- Julia\n",
    "- Scala\n"
   ]
  },
  {
   "cell_type": "markdown",
   "id": "7aeb619d",
   "metadata": {},
   "source": [
    "### Some of the popular languages that Data Scientists use are:\n",
    "#### 1. python\n",
    "#### 2. SQL\n",
    "#### 3. R\n",
    "#### 4. Julia \n"
   ]
  },
  {
   "cell_type": "markdown",
   "id": "5935eb2d",
   "metadata": {},
   "source": [
    "### Some of the commonly used libraries used by Data Scientists include:\n",
    "#### 1. numpy\n",
    "#### 2. matplotlib\n",
    "#### 3. pandas\n",
    "#### 4. TensorFlow"
   ]
  },
  {
   "cell_type": "markdown",
   "id": "1d3d1004",
   "metadata": {},
   "source": [
    "|No| Data Science Tools |\n",
    "|----|----------------|\n",
    "|1| Tableau|\n",
    "|2| TensorFlow|\n",
    "|3| BigML|\n"
   ]
  },
  {
   "cell_type": "markdown",
   "id": "a5a49143",
   "metadata": {},
   "source": [
    "### Below are a few examples of evaluating arithmetic expressions in Python:\n",
    "##### 1 --  is already evaluated, its value is 1.\n",
    "##### (1 + 2) --  evaluates to 3\n",
    "##### (2 - 1) -- evaluates to 1\n"
   ]
  },
  {
   "cell_type": "code",
   "execution_count": 2,
   "id": "07b5ed23",
   "metadata": {},
   "outputs": [
    {
     "data": {
      "text/plain": [
       "17"
      ]
     },
     "execution_count": 2,
     "metadata": {},
     "output_type": "execute_result"
    }
   ],
   "source": [
    "# This a simple arithmetic expression to mutiply then add integers\n",
    "(3*4)+5"
   ]
  },
  {
   "cell_type": "code",
   "execution_count": 11,
   "id": "f8f69f7b",
   "metadata": {},
   "outputs": [
    {
     "name": "stdout",
     "output_type": "stream",
     "text": [
      "The convertion of 200 mins dividing by 60 is :\n",
      "3 hrs and 3 mins.\n"
     ]
    }
   ],
   "source": [
    "#This will convert 200 minutes to hours by diving by 60.\n",
    "x = 200\n",
    "hours = int(200/60)\n",
    "minutes = 200//60\n",
    "print(f'The convertion of {x} mins dividing by 60 is :\\n{hours} hrs and {minutes} mins.')"
   ]
  },
  {
   "cell_type": "markdown",
   "id": "120b62fd",
   "metadata": {},
   "source": [
    "## Author \n",
    "Kaung Myat Linn"
   ]
  },
  {
   "cell_type": "code",
   "execution_count": null,
   "id": "093f3696",
   "metadata": {},
   "outputs": [],
   "source": []
  },
  {
   "cell_type": "code",
   "execution_count": null,
   "id": "f5ee6c35",
   "metadata": {},
   "outputs": [],
   "source": []
  }
 ],
 "metadata": {
  "kernelspec": {
   "display_name": "Python 3 (ipykernel)",
   "language": "python",
   "name": "python3"
  },
  "language_info": {
   "codemirror_mode": {
    "name": "ipython",
    "version": 3
   },
   "file_extension": ".py",
   "mimetype": "text/x-python",
   "name": "python",
   "nbconvert_exporter": "python",
   "pygments_lexer": "ipython3",
   "version": "3.10.9"
  }
 },
 "nbformat": 4,
 "nbformat_minor": 5
}
